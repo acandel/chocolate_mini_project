{
 "cells": [
  {
   "cell_type": "markdown",
   "id": "b42a1751-6bd8-4091-bcca-933ae12d64c8",
   "metadata": {},
   "source": [
    "# Chocolate"
   ]
  },
  {
   "cell_type": "markdown",
   "id": "a1fffa0f-c1c4-4f82-ab3a-9ef64c1bee87",
   "metadata": {},
   "source": [
    "Kaggle link: https://www.kaggle.com/datasets/rtatman/chocolate-bar-ratings"
   ]
  },
  {
   "cell_type": "code",
   "execution_count": 1,
   "id": "b495017e-f39f-433e-8ef0-807e5af7c320",
   "metadata": {},
   "outputs": [],
   "source": [
    "#Import the necesaries libraries\n",
    "import matplotlib.pyplot as plt \n",
    "import pandas as pd\n",
    "import numpy as np\n",
    "from sklearn.preprocessing import StandardScaler"
   ]
  },
  {
   "cell_type": "code",
   "execution_count": 2,
   "id": "73e70eb7-cd2f-496c-9a61-bc933b5eecd2",
   "metadata": {},
   "outputs": [],
   "source": [
    "# Read our data\n",
    "df = pd.read_csv(\"flavors_of_cacao.csv\")"
   ]
  },
  {
   "cell_type": "code",
   "execution_count": 3,
   "id": "0ea2b614-9304-4857-861d-f880ca7f0f69",
   "metadata": {},
   "outputs": [
    {
     "data": {
      "text/html": [
       "<div>\n",
       "<style scoped>\n",
       "    .dataframe tbody tr th:only-of-type {\n",
       "        vertical-align: middle;\n",
       "    }\n",
       "\n",
       "    .dataframe tbody tr th {\n",
       "        vertical-align: top;\n",
       "    }\n",
       "\n",
       "    .dataframe thead th {\n",
       "        text-align: right;\n",
       "    }\n",
       "</style>\n",
       "<table border=\"1\" class=\"dataframe\">\n",
       "  <thead>\n",
       "    <tr style=\"text-align: right;\">\n",
       "      <th></th>\n",
       "      <th>Company \\n(Maker-if known)</th>\n",
       "      <th>Specific Bean Origin\\nor Bar Name</th>\n",
       "      <th>REF</th>\n",
       "      <th>Review\\nDate</th>\n",
       "      <th>Cocoa\\nPercent</th>\n",
       "      <th>Company\\nLocation</th>\n",
       "      <th>Rating</th>\n",
       "      <th>Bean\\nType</th>\n",
       "      <th>Broad Bean\\nOrigin</th>\n",
       "    </tr>\n",
       "  </thead>\n",
       "  <tbody>\n",
       "    <tr>\n",
       "      <th>0</th>\n",
       "      <td>A. Morin</td>\n",
       "      <td>Agua Grande</td>\n",
       "      <td>1876</td>\n",
       "      <td>2016</td>\n",
       "      <td>63%</td>\n",
       "      <td>France</td>\n",
       "      <td>3.75</td>\n",
       "      <td></td>\n",
       "      <td>Sao Tome</td>\n",
       "    </tr>\n",
       "    <tr>\n",
       "      <th>1</th>\n",
       "      <td>A. Morin</td>\n",
       "      <td>Kpime</td>\n",
       "      <td>1676</td>\n",
       "      <td>2015</td>\n",
       "      <td>70%</td>\n",
       "      <td>France</td>\n",
       "      <td>2.75</td>\n",
       "      <td></td>\n",
       "      <td>Togo</td>\n",
       "    </tr>\n",
       "    <tr>\n",
       "      <th>2</th>\n",
       "      <td>A. Morin</td>\n",
       "      <td>Atsane</td>\n",
       "      <td>1676</td>\n",
       "      <td>2015</td>\n",
       "      <td>70%</td>\n",
       "      <td>France</td>\n",
       "      <td>3.00</td>\n",
       "      <td></td>\n",
       "      <td>Togo</td>\n",
       "    </tr>\n",
       "    <tr>\n",
       "      <th>3</th>\n",
       "      <td>A. Morin</td>\n",
       "      <td>Akata</td>\n",
       "      <td>1680</td>\n",
       "      <td>2015</td>\n",
       "      <td>70%</td>\n",
       "      <td>France</td>\n",
       "      <td>3.50</td>\n",
       "      <td></td>\n",
       "      <td>Togo</td>\n",
       "    </tr>\n",
       "    <tr>\n",
       "      <th>4</th>\n",
       "      <td>A. Morin</td>\n",
       "      <td>Quilla</td>\n",
       "      <td>1704</td>\n",
       "      <td>2015</td>\n",
       "      <td>70%</td>\n",
       "      <td>France</td>\n",
       "      <td>3.50</td>\n",
       "      <td></td>\n",
       "      <td>Peru</td>\n",
       "    </tr>\n",
       "  </tbody>\n",
       "</table>\n",
       "</div>"
      ],
      "text/plain": [
       "  Company \\n(Maker-if known) Specific Bean Origin\\nor Bar Name   REF  \\\n",
       "0                   A. Morin                       Agua Grande  1876   \n",
       "1                   A. Morin                             Kpime  1676   \n",
       "2                   A. Morin                            Atsane  1676   \n",
       "3                   A. Morin                             Akata  1680   \n",
       "4                   A. Morin                            Quilla  1704   \n",
       "\n",
       "   Review\\nDate Cocoa\\nPercent Company\\nLocation  Rating Bean\\nType  \\\n",
       "0          2016            63%            France    3.75              \n",
       "1          2015            70%            France    2.75              \n",
       "2          2015            70%            France    3.00              \n",
       "3          2015            70%            France    3.50              \n",
       "4          2015            70%            France    3.50              \n",
       "\n",
       "  Broad Bean\\nOrigin  \n",
       "0           Sao Tome  \n",
       "1               Togo  \n",
       "2               Togo  \n",
       "3               Togo  \n",
       "4               Peru  "
      ]
     },
     "execution_count": 3,
     "metadata": {},
     "output_type": "execute_result"
    }
   ],
   "source": [
    "df.head()"
   ]
  },
  {
   "cell_type": "code",
   "execution_count": 4,
   "id": "9edcd1b2-3c56-4e7b-820f-88dd8239938f",
   "metadata": {},
   "outputs": [
    {
     "data": {
      "text/html": [
       "<div>\n",
       "<style scoped>\n",
       "    .dataframe tbody tr th:only-of-type {\n",
       "        vertical-align: middle;\n",
       "    }\n",
       "\n",
       "    .dataframe tbody tr th {\n",
       "        vertical-align: top;\n",
       "    }\n",
       "\n",
       "    .dataframe thead th {\n",
       "        text-align: right;\n",
       "    }\n",
       "</style>\n",
       "<table border=\"1\" class=\"dataframe\">\n",
       "  <thead>\n",
       "    <tr style=\"text-align: right;\">\n",
       "      <th></th>\n",
       "      <th>Company \\n(Maker-if known)</th>\n",
       "      <th>Specific Bean Origin\\nor Bar Name</th>\n",
       "      <th>REF</th>\n",
       "      <th>Review\\nDate</th>\n",
       "      <th>Cocoa\\nPercent</th>\n",
       "      <th>Company\\nLocation</th>\n",
       "      <th>Rating</th>\n",
       "      <th>Bean\\nType</th>\n",
       "      <th>Broad Bean\\nOrigin</th>\n",
       "    </tr>\n",
       "  </thead>\n",
       "  <tbody>\n",
       "    <tr>\n",
       "      <th>1790</th>\n",
       "      <td>Zotter</td>\n",
       "      <td>Peru</td>\n",
       "      <td>647</td>\n",
       "      <td>2011</td>\n",
       "      <td>70%</td>\n",
       "      <td>Austria</td>\n",
       "      <td>3.75</td>\n",
       "      <td></td>\n",
       "      <td>Peru</td>\n",
       "    </tr>\n",
       "    <tr>\n",
       "      <th>1791</th>\n",
       "      <td>Zotter</td>\n",
       "      <td>Congo</td>\n",
       "      <td>749</td>\n",
       "      <td>2011</td>\n",
       "      <td>65%</td>\n",
       "      <td>Austria</td>\n",
       "      <td>3.00</td>\n",
       "      <td>Forastero</td>\n",
       "      <td>Congo</td>\n",
       "    </tr>\n",
       "    <tr>\n",
       "      <th>1792</th>\n",
       "      <td>Zotter</td>\n",
       "      <td>Kerala State</td>\n",
       "      <td>749</td>\n",
       "      <td>2011</td>\n",
       "      <td>65%</td>\n",
       "      <td>Austria</td>\n",
       "      <td>3.50</td>\n",
       "      <td>Forastero</td>\n",
       "      <td>India</td>\n",
       "    </tr>\n",
       "    <tr>\n",
       "      <th>1793</th>\n",
       "      <td>Zotter</td>\n",
       "      <td>Kerala State</td>\n",
       "      <td>781</td>\n",
       "      <td>2011</td>\n",
       "      <td>62%</td>\n",
       "      <td>Austria</td>\n",
       "      <td>3.25</td>\n",
       "      <td></td>\n",
       "      <td>India</td>\n",
       "    </tr>\n",
       "    <tr>\n",
       "      <th>1794</th>\n",
       "      <td>Zotter</td>\n",
       "      <td>Brazil, Mitzi Blue</td>\n",
       "      <td>486</td>\n",
       "      <td>2010</td>\n",
       "      <td>65%</td>\n",
       "      <td>Austria</td>\n",
       "      <td>3.00</td>\n",
       "      <td></td>\n",
       "      <td>Brazil</td>\n",
       "    </tr>\n",
       "  </tbody>\n",
       "</table>\n",
       "</div>"
      ],
      "text/plain": [
       "     Company \\n(Maker-if known) Specific Bean Origin\\nor Bar Name  REF  \\\n",
       "1790                     Zotter                              Peru  647   \n",
       "1791                     Zotter                             Congo  749   \n",
       "1792                     Zotter                      Kerala State  749   \n",
       "1793                     Zotter                      Kerala State  781   \n",
       "1794                     Zotter                Brazil, Mitzi Blue  486   \n",
       "\n",
       "      Review\\nDate Cocoa\\nPercent Company\\nLocation  Rating Bean\\nType  \\\n",
       "1790          2011            70%           Austria    3.75              \n",
       "1791          2011            65%           Austria    3.00  Forastero   \n",
       "1792          2011            65%           Austria    3.50  Forastero   \n",
       "1793          2011            62%           Austria    3.25              \n",
       "1794          2010            65%           Austria    3.00              \n",
       "\n",
       "     Broad Bean\\nOrigin  \n",
       "1790               Peru  \n",
       "1791              Congo  \n",
       "1792              India  \n",
       "1793              India  \n",
       "1794             Brazil  "
      ]
     },
     "execution_count": 4,
     "metadata": {},
     "output_type": "execute_result"
    }
   ],
   "source": [
    "df.tail()"
   ]
  },
  {
   "cell_type": "code",
   "execution_count": 5,
   "id": "ce14965b-599d-4226-a06e-a1ff281fe8b7",
   "metadata": {},
   "outputs": [
    {
     "data": {
      "text/plain": [
       "Index(['Company \\n(Maker-if known)', 'Specific Bean Origin\\nor Bar Name',\n",
       "       'REF', 'Review\\nDate', 'Cocoa\\nPercent', 'Company\\nLocation', 'Rating',\n",
       "       'Bean\\nType', 'Broad Bean\\nOrigin'],\n",
       "      dtype='object')"
      ]
     },
     "execution_count": 5,
     "metadata": {},
     "output_type": "execute_result"
    }
   ],
   "source": [
    "df.columns"
   ]
  },
  {
   "cell_type": "code",
   "execution_count": 6,
   "id": "17dfd939-caf8-4f14-add5-68a185df7763",
   "metadata": {},
   "outputs": [],
   "source": [
    "# Clean the columns names\n",
    "df.columns = ['Company', 'SpecificBeanOriginor BarName',\n",
    "       'REF', 'ReviewDate', 'CocoaPercent', 'CompanyLocation', 'Rating',\n",
    "       'BeanType', 'BroadBeanOrigin']"
   ]
  },
  {
   "cell_type": "markdown",
   "id": "905b5108-b541-41de-8a0a-c5397576d0e3",
   "metadata": {},
   "source": [
    "# 1. the count of the tuples in the given dataset;"
   ]
  },
  {
   "cell_type": "code",
   "execution_count": 7,
   "id": "7b51c516-c50a-40d9-b5ea-7d1b0c350c71",
   "metadata": {
    "tags": []
   },
   "outputs": [
    {
     "data": {
      "text/plain": [
       "1795"
      ]
     },
     "execution_count": 7,
     "metadata": {},
     "output_type": "execute_result"
    }
   ],
   "source": [
    "df.shape[0]"
   ]
  },
  {
   "cell_type": "markdown",
   "id": "80ac6bfb-48a5-44de-bc76-3df15af9cca0",
   "metadata": {},
   "source": [
    "# 2. the count of the names of unique company names from the attributes;"
   ]
  },
  {
   "cell_type": "code",
   "execution_count": 8,
   "id": "8fa0e853-de64-4283-a6e2-89296d5bec00",
   "metadata": {},
   "outputs": [
    {
     "data": {
      "text/plain": [
       "array(['A. Morin', 'Acalli', 'Adi', 'Aequare (Gianduja)', 'Ah Cacao',\n",
       "       \"Akesson's (Pralus)\", 'Alain Ducasse', 'Alexandre',\n",
       "       'Altus aka Cao Artisan', 'Amano', 'Amatller (Simon Coll)',\n",
       "       'Amazona', 'Ambrosia', 'Amedei', 'AMMA', 'Anahata', 'Animas',\n",
       "       'Ara', 'Arete', 'Artisan du Chocolat',\n",
       "       'Artisan du Chocolat (Casa Luker)', 'Askinosie', 'Bahen & Co.',\n",
       "       'Bakau', 'Bar Au Chocolat', \"Baravelli's\", 'Batch', 'Beau Cacao',\n",
       "       'Beehive', 'Belcolade', 'Bellflower', 'Belyzium', 'Benoit Nihant',\n",
       "       'Bernachon', 'Beschle (Felchlin)', 'Bisou', 'Bittersweet Origins',\n",
       "       'Black Mountain', 'Black River (A. Morin)', 'Blanxart',\n",
       "       'Blue Bandana', 'Bonnat', 'Bouga Cacao (Tulicorp)', 'Bowler Man',\n",
       "       \"Brasstown aka It's Chocolate\", 'Brazen', 'Breeze Mill', 'Bright',\n",
       "       'Britarev', 'Bronx Grrl Chocolate', 'Burnt Fork Bend',\n",
       "       'Cacao Arabuco', 'Cacao Atlanta', 'Cacao Barry', 'Cacao de Origen',\n",
       "       'Cacao de Origin', 'Cacao Hunters', 'Cacao Market', 'Cacao Prieto',\n",
       "       'Cacao Sampaka', 'Cacao Store',\n",
       "       'Cacaosuyo (Theobroma Inversiones)', 'Cacaoyere (Ecuatoriana)',\n",
       "       'Callebaut', 'C-Amaro', 'Cao', 'Caoni (Tulicorp)',\n",
       "       'Captain Pembleton', 'Caribeans', 'Carlotta Chocolat',\n",
       "       'Castronovo', 'Cello', 'Cemoi', 'Chaleur B', 'Charm School',\n",
       "       'Chchukululu (Tulicorp)', 'Chequessett', 'Chloe Chocolat',\n",
       "       'Chocablog', 'Choco Del Sol', 'Choco Dong', 'Chocolarder',\n",
       "       \"Chocola'te\", 'Chocolate Alchemist-Philly', 'Chocolate Con Amor',\n",
       "       'Chocolate Conspiracy', 'Chocolate Makers', 'Chocolate Tree, The',\n",
       "       'Chocolats Privilege', 'ChocoReko', 'Chocosol', 'Chocovic',\n",
       "       'Chocovivo', 'Choklat', 'Chokolat Elot (Girard)', 'Choocsol',\n",
       "       'Christopher Morel (Felchlin)', 'Chuao Chocolatier',\n",
       "       'Chuao Chocolatier (Pralus)', 'Claudio Corallo', 'Cloudforest',\n",
       "       'Coleman & Davis', 'Compania de Chocolate (Salgado)', 'Condor',\n",
       "       'Confluence', 'Coppeneur', \"Cote d' Or (Kraft)\", 'Cravve', 'Creo',\n",
       "       'Daintree', 'Dalloway', 'Damson', 'Dandelion', 'Danta', 'DAR',\n",
       "       'Dark Forest', 'Davis', 'De Mendes', 'De Villiers',\n",
       "       'Dean and Deluca (Belcolade)',\n",
       "       'Debauve & Gallais (Michel Cluizel)', 'Desbarres', 'DeVries',\n",
       "       'Dick Taylor', 'Doble & Bignall', 'Dole (Guittard)',\n",
       "       'Dolfin (Belcolade)', 'Domori', 'Dormouse', \"Duffy's\", 'Dulcinea',\n",
       "       'Durand', 'Durci', 'East Van Roasters', 'Eau de Rose',\n",
       "       'Eclat (Felchlin)', 'Edelmond', 'El Ceibo', 'El Rey',\n",
       "       'Emerald Estate', \"Emily's\", 'ENNA',\n",
       "       'Enric Rovira (Claudio Corallo)', 'Erithaj (A. Morin)', 'Escazu',\n",
       "       \"Ethel's Artisan (Mars)\", 'Ethereal', 'Fearless (AMMA)',\n",
       "       'Feitoria Cacao', 'Felchlin', 'Finca', 'Forever Cacao',\n",
       "       'Forteza (Cortes)', 'Fossa', 'Franceschi', 'Frederic Blondeel',\n",
       "       'French Broad', 'Fresco', 'Friis Holm', 'Friis Holm (Bonnat)',\n",
       "       'Fruition', 'Garden Island', 'Georgia Ramon', 'Glennmade',\n",
       "       'Goodnow Farms', 'Grand Place', \"Green & Black's (ICAM)\",\n",
       "       'Green Bean to Bar', 'Grenada Chocolate Co.', 'Guido Castagna',\n",
       "       'Guittard', 'Habitual', 'Hachez', 'Hacienda El Castillo', 'Haigh',\n",
       "       'Harper Macaw', 'Heilemann',\n",
       "       'Heirloom Cacao Preservation (Brasstown)',\n",
       "       'Heirloom Cacao Preservation (Fruition)',\n",
       "       'Heirloom Cacao Preservation (Guittard)',\n",
       "       'Heirloom Cacao Preservation (Manoa)',\n",
       "       'Heirloom Cacao Preservation (Millcreek)',\n",
       "       'Heirloom Cacao Preservation (Mindo)',\n",
       "       'Heirloom Cacao Preservation (Zokoko)', 'hello cocoa', 'hexx',\n",
       "       'Hogarth', 'Hoja Verde (Tulicorp)', 'Holy Cacao', 'Honest',\n",
       "       'Hotel Chocolat', 'Hotel Chocolat (Coppeneur)', 'Hummingbird',\n",
       "       'Idilio (Felchlin)', 'Indah', 'Indaphoria', 'Indi', 'iQ Chocolate',\n",
       "       'Isidro', 'Izard', 'Jacque Torres', 'Jordis',\n",
       "       'Just Good Chocolate', 'Kah Kow', 'Kakao', 'Kallari (Ecuatoriana)',\n",
       "       'Kaoka (Cemoi)', 'Kerchner', \"Ki' Xocolatl\", 'Kiskadee', 'Kto',\n",
       "       \"K'ul\", 'Kyya', 'L.A. Burdick (Felchlin)',\n",
       "       'La Chocolaterie Nanairo', 'La Maison du Chocolat (Valrhona)',\n",
       "       'La Oroquidea', 'La Pepa de Oro', 'Laia aka Chat-Noir',\n",
       "       'Lajedo do Ouro', 'Lake Champlain (Callebaut)', \"L'Amourette\",\n",
       "       'Letterpress', 'Levy', 'Lilla', 'Lillie Belle', 'Lindt & Sprungli',\n",
       "       'Loiza', 'Lonohana', 'Love Bar', 'Luker',\n",
       "       'Machu Picchu Trading Co.', 'Madecasse (Cinagra)', 'Madre',\n",
       "       'Maglio', 'Majani', 'Malagasy (Chocolaterie Robert)', 'Malagos',\n",
       "       'Malie Kai (Guittard)', 'Malmo', 'Mana', 'Manifesto Cacao',\n",
       "       'Manoa', 'Manufaktura Czekolady', 'Map Chocolate', 'Marana',\n",
       "       \"Marigold's Finest\", 'Marou', 'Mars', 'Marsatta', 'Martin Mayer',\n",
       "       'Mast Brothers', 'Matale', 'Maverick', 'Mayacama', 'Meadowlands',\n",
       "       'Menakao (aka Cinagra)', 'Mesocacao', 'Metiisto', 'Metropolitan',\n",
       "       'Michel Cluizel', 'Middlebury', 'Millcreek Cacao Roasters',\n",
       "       'Mindo', 'Minimal', 'Mission', 'Mita', 'Moho', 'Molucca',\n",
       "       'Momotombo', 'Monarque', 'Monsieur Truffe', 'Montecristi',\n",
       "       'Muchomas (Mesocacao)', 'Mutari', 'Nahua', 'Naive', 'Na�ve',\n",
       "       'Nanea', 'Nathan Miller', 'Neuhaus (Callebaut)', 'Nibble',\n",
       "       'Night Owl', 'Noble Bean aka Jerjobo', \"Noir d' Ebine\",\n",
       "       'Nova Monda', 'Nuance', 'Nugali', 'Oakland Chocolate Co.', 'Obolo',\n",
       "       'Ocelot', 'Ocho', 'Ohiyo', 'Oialla by Bojessen (Malmo)',\n",
       "       'Olive and Sinclair', 'Olivia', 'Omanhene', 'Omnom', 'organicfair',\n",
       "       'Original Beans (Felchlin)', 'Original Hawaiin Chocolate Factory',\n",
       "       'Orquidea', 'Pacari', 'Palette de Bine', 'Pangea', 'Park 75',\n",
       "       'Parliament', 'Pascha', 'Patric', 'Paul Young', 'Peppalo',\n",
       "       'Pierre Marcolini', 'Pinellas', 'Pitch Dark',\n",
       "       'Pomm (aka Dead Dog)', 'Potomac', 'Pralus', 'Pump Street Bakery',\n",
       "       'Pura Delizia', 'Q Chocolate', 'Quetzalli (Wolter)', 'Raaka',\n",
       "       'Rain Republic', 'Rancho San Jacinto', 'Ranger', 'Raoul Boulanger',\n",
       "       'Raw Cocoa', 'Republica del Cacao (aka Confecta)', 'Ritual',\n",
       "       'Roasting Masters', 'Robert (aka Chocolaterie Robert)',\n",
       "       'Rococo (Grenada Chocolate Co.)', 'Rogue', 'Rozsavolgyi',\n",
       "       'S.A.I.D.', 'Sacred', 'Salgado', 'Santander (Compania Nacional)',\n",
       "       'Santome', 'Scharffen Berger', 'Seaforth', 'Shark Mountain',\n",
       "       \"Shark's\", 'Shattel', 'Shattell', 'Sibu', 'Sibu Sura',\n",
       "       'Silvio Bessone', 'Sirene', 'Sjolinds', 'Smooth Chocolator, The',\n",
       "       'Snake & Butterfly', 'Sol Cacao', 'Solkiki', 'Solomons Gold',\n",
       "       'Solstice', 'Soma', 'Somerville', 'Soul', 'Spagnvola', 'Spencer',\n",
       "       'Sprungli (Felchlin)', 'SRSLY', 'Starchild',\n",
       "       'Stella (aka Bernrain)', 'Stone Grindz', 'StRita Supreme',\n",
       "       'Sublime Origins', 'Summerbird', 'Suruca Chocolate',\n",
       "       'Svenska Kakaobolaget', 'Szanto Tibor', 'Tabal',\n",
       "       'Tablette (aka Vanillabeans)', 'Tan Ban Skrati', 'Taza', 'TCHO',\n",
       "       'Tejas', 'Terroir', 'The Barn', 'Theo', 'Theobroma',\n",
       "       'Timo A. Meyer', \"To'ak (Ecuatoriana)\", 'Tobago Estate (Pralus)',\n",
       "       'Tocoti', 'Treehouse', 'Tsara (Cinagra)', 'twenty-four blackbirds',\n",
       "       'Two Ravens', 'Un Dimanche A Paris', 'Undone', 'Upchurch', 'Urzi',\n",
       "       'Valrhona', 'Vanleer (Barry Callebaut)',\n",
       "       'Vao Vao (Chocolaterie Robert)', 'Vicuna', 'Videri',\n",
       "       'Vietcacao (A. Morin)', 'Vintage Plantations',\n",
       "       'Vintage Plantations (Tulicorp)', 'Violet Sky', 'Vivra',\n",
       "       'Wellington Chocolate Factory', 'Whittakers', \"Wilkie's Organic\",\n",
       "       \"Willie's Cacao\", 'Wm', 'Woodblock', 'Xocolat', 'Xocolla', \"Zak's\",\n",
       "       'Zart Pralinen', 'Zokoko', 'Zotter'], dtype=object)"
      ]
     },
     "execution_count": 8,
     "metadata": {},
     "output_type": "execute_result"
    }
   ],
   "source": [
    "df[\"Company\"].unique()"
   ]
  },
  {
   "cell_type": "code",
   "execution_count": 9,
   "id": "ea133030-be40-46b9-9d10-05ecaf508b82",
   "metadata": {
    "tags": []
   },
   "outputs": [
    {
     "data": {
      "text/plain": [
       "416"
      ]
     },
     "execution_count": 9,
     "metadata": {},
     "output_type": "execute_result"
    }
   ],
   "source": [
    "len(df[\"Company\"].unique())"
   ]
  },
  {
   "cell_type": "markdown",
   "id": "cdd19a1f-6670-4e07-8a5e-269de3fe8524",
   "metadata": {},
   "source": [
    "# 3. the count of reviews in 2013 from the attributes;"
   ]
  },
  {
   "cell_type": "code",
   "execution_count": 10,
   "id": "8e3ab605-d468-41cc-b6ef-2e44b99ce1e3",
   "metadata": {
    "tags": []
   },
   "outputs": [
    {
     "data": {
      "text/plain": [
       "ReviewDate\n",
       "2006     72\n",
       "2007     77\n",
       "2008     93\n",
       "2009    123\n",
       "2010    111\n",
       "2011    165\n",
       "2012    195\n",
       "2013    184\n",
       "2014    247\n",
       "2015    285\n",
       "2016    219\n",
       "2017     24\n",
       "Name: Rating, dtype: int64"
      ]
     },
     "execution_count": 10,
     "metadata": {},
     "output_type": "execute_result"
    }
   ],
   "source": [
    "df.groupby([\"ReviewDate\"]).count()[\"Rating\"]"
   ]
  },
  {
   "cell_type": "code",
   "execution_count": 11,
   "id": "dabbc54b-b075-49af-8a7b-74ec47c3dfa1",
   "metadata": {
    "tags": []
   },
   "outputs": [
    {
     "data": {
      "text/plain": [
       "184"
      ]
     },
     "execution_count": 11,
     "metadata": {},
     "output_type": "execute_result"
    }
   ],
   "source": [
    "df.groupby([\"ReviewDate\"]).count()[\"Rating\"][2013]"
   ]
  },
  {
   "cell_type": "markdown",
   "id": "a4a0f389-3110-4d79-9e4d-9bee71768dd9",
   "metadata": {},
   "source": [
    "# 4. the count of missing values in a Specifically given;\n"
   ]
  },
  {
   "cell_type": "markdown",
   "id": "a1cfc56d-ee06-4f3c-b254-99ea78900713",
   "metadata": {},
   "source": [
    "The column BeanType according to the info function only has 1 missing value. However, that's not true. Let's take a look!"
   ]
  },
  {
   "cell_type": "code",
   "execution_count": 12,
   "id": "933b4649-6a3d-42a9-9d22-57ac0ce88c92",
   "metadata": {
    "tags": []
   },
   "outputs": [
    {
     "name": "stdout",
     "output_type": "stream",
     "text": [
      "<class 'pandas.core.frame.DataFrame'>\n",
      "RangeIndex: 1795 entries, 0 to 1794\n",
      "Data columns (total 9 columns):\n",
      " #   Column                        Non-Null Count  Dtype  \n",
      "---  ------                        --------------  -----  \n",
      " 0   Company                       1795 non-null   object \n",
      " 1   SpecificBeanOriginor BarName  1795 non-null   object \n",
      " 2   REF                           1795 non-null   int64  \n",
      " 3   ReviewDate                    1795 non-null   int64  \n",
      " 4   CocoaPercent                  1795 non-null   object \n",
      " 5   CompanyLocation               1795 non-null   object \n",
      " 6   Rating                        1795 non-null   float64\n",
      " 7   BeanType                      1794 non-null   object \n",
      " 8   BroadBeanOrigin               1794 non-null   object \n",
      "dtypes: float64(1), int64(2), object(6)\n",
      "memory usage: 126.3+ KB\n"
     ]
    }
   ],
   "source": [
    "df.info()"
   ]
  },
  {
   "cell_type": "markdown",
   "id": "5ef318e8-b73a-48f0-9378-19759b613716",
   "metadata": {},
   "source": [
    "If we count the unique values using the method value_counts() we have a problem because we only have 887 points of 1794."
   ]
  },
  {
   "cell_type": "code",
   "execution_count": 13,
   "id": "dfc862f5-bff2-4139-932c-e5a297ece2be",
   "metadata": {
    "tags": []
   },
   "outputs": [
    {
     "data": {
      "text/plain": [
       "BeanType\n",
       "                            887\n",
       "Trinitario                  419\n",
       "Criollo                     153\n",
       "Forastero                    87\n",
       "Forastero (Nacional)         52\n",
       "Blend                        41\n",
       "Criollo, Trinitario          39\n",
       "Forastero (Arriba)           37\n",
       "Criollo (Porcelana)          10\n",
       "Trinitario, Criollo           9\n",
       "Forastero (Parazinho)         8\n",
       "Forastero (Arriba) ASS        6\n",
       "Nacional (Arriba)             3\n",
       "Matina                        3\n",
       "EET                           3\n",
       "Beniano                       3\n",
       "Criollo (Ocumare 61)          2\n",
       "Trinitario, Forastero         2\n",
       "Trinitario (85% Criollo)      2\n",
       "Forastero (Catongo)           2\n",
       "Criollo, Forastero            2\n",
       "Amazon, ICS                   2\n",
       "Criollo (Amarru)              2\n",
       "Amazon mix                    2\n",
       "Nacional                      2\n",
       "Criollo (Ocumare)             1\n",
       "Criollo (Ocumare 67)          1\n",
       "Trinitario, TCGA              1\n",
       "Trinitario (Amelonado)        1\n",
       "Trinitario, Nacional          1\n",
       "Forastero (Amelonado)         1\n",
       "Forastero, Trinitario         1\n",
       "Forastero (Arriba) ASSS       1\n",
       "Forastero(Arriba, CCN)        1\n",
       "Criollo, +                    1\n",
       "Criollo (Wild)                1\n",
       "Trinitario (Scavina)          1\n",
       "Criollo (Ocumare 77)          1\n",
       "CCN51                         1\n",
       "Amazon                        1\n",
       "Blend-Forastero,Criollo       1\n",
       "Name: count, dtype: int64"
      ]
     },
     "execution_count": 13,
     "metadata": {},
     "output_type": "execute_result"
    }
   ],
   "source": [
    "df[\"BeanType\"].value_counts()"
   ]
  },
  {
   "cell_type": "markdown",
   "id": "f1dadc72-569b-42b9-bc44-7eb6f35db05e",
   "metadata": {},
   "source": [
    "Basically, we create a set with all the unique values, and then, we realized that there's a weird \\xa0 value!"
   ]
  },
  {
   "cell_type": "code",
   "execution_count": 14,
   "id": "3fb70aba-5dd8-40b1-b019-81b1398db74f",
   "metadata": {
    "tags": []
   },
   "outputs": [
    {
     "data": {
      "text/plain": [
       "{'Amazon',\n",
       " 'Amazon mix',\n",
       " 'Amazon, ICS',\n",
       " 'Beniano',\n",
       " 'Blend',\n",
       " 'Blend-Forastero,Criollo',\n",
       " 'CCN51',\n",
       " 'Criollo',\n",
       " 'Criollo (Amarru)',\n",
       " 'Criollo (Ocumare 61)',\n",
       " 'Criollo (Ocumare 67)',\n",
       " 'Criollo (Ocumare 77)',\n",
       " 'Criollo (Ocumare)',\n",
       " 'Criollo (Porcelana)',\n",
       " 'Criollo (Wild)',\n",
       " 'Criollo, +',\n",
       " 'Criollo, Forastero',\n",
       " 'Criollo, Trinitario',\n",
       " 'EET',\n",
       " 'Forastero',\n",
       " 'Forastero (Amelonado)',\n",
       " 'Forastero (Arriba)',\n",
       " 'Forastero (Arriba) ASS',\n",
       " 'Forastero (Arriba) ASSS',\n",
       " 'Forastero (Catongo)',\n",
       " 'Forastero (Nacional)',\n",
       " 'Forastero (Parazinho)',\n",
       " 'Forastero(Arriba, CCN)',\n",
       " 'Forastero, Trinitario',\n",
       " 'Matina',\n",
       " 'Nacional',\n",
       " 'Nacional (Arriba)',\n",
       " 'Trinitario',\n",
       " 'Trinitario (85% Criollo)',\n",
       " 'Trinitario (Amelonado)',\n",
       " 'Trinitario (Scavina)',\n",
       " 'Trinitario, Criollo',\n",
       " 'Trinitario, Forastero',\n",
       " 'Trinitario, Nacional',\n",
       " 'Trinitario, TCGA',\n",
       " nan,\n",
       " '\\xa0'}"
      ]
     },
     "execution_count": 14,
     "metadata": {},
     "output_type": "execute_result"
    }
   ],
   "source": [
    "set(df[\"BeanType\"].values)"
   ]
  },
  {
   "cell_type": "code",
   "execution_count": 15,
   "id": "75ee7e4e-6765-4edd-b698-8a9968d141be",
   "metadata": {
    "tags": []
   },
   "outputs": [
    {
     "data": {
      "text/plain": [
       "887"
      ]
     },
     "execution_count": 15,
     "metadata": {},
     "output_type": "execute_result"
    }
   ],
   "source": [
    "df[df[\"BeanType\"] == \"\\xa0\"].shape[0]"
   ]
  },
  {
   "cell_type": "code",
   "execution_count": 16,
   "id": "01af55a8-85e7-40fb-ad3b-5d4d6b8e7c8e",
   "metadata": {
    "tags": []
   },
   "outputs": [
    {
     "data": {
      "text/plain": [
       "1"
      ]
     },
     "execution_count": 16,
     "metadata": {},
     "output_type": "execute_result"
    }
   ],
   "source": [
    "df[\"BeanType\"].isna().sum()"
   ]
  },
  {
   "cell_type": "markdown",
   "id": "c106f740-1c9f-41ce-b340-59118a764df2",
   "metadata": {},
   "source": [
    "In conclusion, there are 888 missing values in the column Bean Type, 887 \\xao and 1 NAN"
   ]
  },
  {
   "cell_type": "markdown",
   "id": "54dc09d3-1848-4974-947d-431042c4bf12",
   "metadata": {},
   "source": [
    "# 5. an output plot of the histogram of the values in the column named “Ratings;”.\n"
   ]
  },
  {
   "cell_type": "code",
   "execution_count": 17,
   "id": "0e76d32b-50e0-4b0b-88dc-8ae50ae563cb",
   "metadata": {
    "tags": []
   },
   "outputs": [
    {
     "data": {
      "text/plain": [
       "Text(0.5, 0, 'Ratings')"
      ]
     },
     "execution_count": 17,
     "metadata": {},
     "output_type": "execute_result"
    },
    {
     "data": {
      "image/png": "[encoded data removed]",
      "text/plain": [
       "<Figure size 1600x500 with 1 Axes>"
      ]
     },
     "metadata": {},
     "output_type": "display_data"
    }
   ],
   "source": [
    "plt.figure(figsize=(16,5))\n",
    "plt.hist(df[\"Rating\"], bins = 4, color = \"red\")\n",
    "plt.xlabel(\"Ratings\")"
   ]
  },
  {
   "cell_type": "markdown",
   "id": "ab9cd96f-bc00-4f02-8707-d09e6af1ac52",
   "metadata": {},
   "source": [
    "# 6. an output plot of the scatter plot between the cocoa percent values against the rating values; and\n"
   ]
  },
  {
   "cell_type": "markdown",
   "id": "2ac3db17-50af-4dca-a638-e3fe8fb441e9",
   "metadata": {},
   "source": [
    "The problem of the cocoa percentage is that if we transform the column and convert the value into int, we'll get an error because there's float values!"
   ]
  },
  {
   "cell_type": "code",
   "execution_count": 18,
   "id": "3a4ecfd1-d596-4c26-b196-999631308f55",
   "metadata": {
    "tags": []
   },
   "outputs": [
    {
     "data": {
      "text/plain": [
       "array(['63%', '70%', '60%', '80%', '88%', '72%', '55%', '75%', '65%',\n",
       "       '85%', '73%', '64%', '66%', '68%', '50%', '100%', '77%', '90%',\n",
       "       '71%', '83%', '78%', '74%', '76%', '86%', '82%', '69%', '91%',\n",
       "       '42%', '61%', '73.5%', '62%', '67%', '58%', '60.5%', '79%', '81%',\n",
       "       '57%', '72.5%', '56%', '46%', '89%', '99%', '84%', '53%', '87%'],\n",
       "      dtype=object)"
      ]
     },
     "execution_count": 18,
     "metadata": {},
     "output_type": "execute_result"
    }
   ],
   "source": [
    "df[\"CocoaPercent\"].unique()"
   ]
  },
  {
   "cell_type": "code",
   "execution_count": 19,
   "id": "68b23151-1d24-4d69-9ba9-e17856af2825",
   "metadata": {},
   "outputs": [],
   "source": [
    "df[\"CocoaPercent\"] = df[\"CocoaPercent\"].str.replace('%',\"\").astype(float)"
   ]
  },
  {
   "cell_type": "code",
   "execution_count": 20,
   "id": "55d14965-c93c-48d1-8c4a-85809a5c06e5",
   "metadata": {},
   "outputs": [
    {
     "data": {
      "text/plain": [
       "Text(0.5, 0, 'Cocoa Percent')"
      ]
     },
     "execution_count": 20,
     "metadata": {},
     "output_type": "execute_result"
    },
    {
     "data": {
      "image/png": "[encoded data removed]",
      "text/plain": [
       "<Figure size 1600x500 with 1 Axes>"
      ]
     },
     "metadata": {},
     "output_type": "display_data"
    }
   ],
   "source": [
    "x = df[\"CocoaPercent\"]\n",
    "y = df[\"Rating\"]\n",
    "plt.figure(figsize=(16,5))\n",
    "plt.scatter(x,y, color = \"r\", alpha = 0.1)\n",
    "plt.ylabel(\"Ratings\")\n",
    "plt.xlabel(\"Cocoa Percent\")"
   ]
  },
  {
   "cell_type": "markdown",
   "id": "fc48b0cb-68dd-4322-9808-0746449bda92",
   "metadata": {},
   "source": [
    "# 7. the normalized ratings column values."
   ]
  },
  {
   "cell_type": "code",
   "execution_count": 21,
   "id": "2e499d05-84ba-48dc-8be6-409d92d67dc2",
   "metadata": {
    "tags": []
   },
   "outputs": [],
   "source": [
    "scaler = StandardScaler()"
   ]
  },
  {
   "cell_type": "code",
   "execution_count": 22,
   "id": "7b67e716-68be-413b-92cd-dccff9707d48",
   "metadata": {
    "tags": []
   },
   "outputs": [
    {
     "data": {
      "text/plain": [
       "(1795,)"
      ]
     },
     "execution_count": 22,
     "metadata": {},
     "output_type": "execute_result"
    }
   ],
   "source": [
    "df.loc[:,\"Rating\"].values.shape"
   ]
  },
  {
   "cell_type": "code",
   "execution_count": 23,
   "id": "12181b5f-4be8-4d58-ae7c-d5c0491f803c",
   "metadata": {
    "tags": []
   },
   "outputs": [
    {
     "data": {
      "text/plain": [
       "(1795, 1)"
      ]
     },
     "execution_count": 23,
     "metadata": {},
     "output_type": "execute_result"
    }
   ],
   "source": [
    "df.iloc[:,6:7].values.shape"
   ]
  },
  {
   "cell_type": "code",
   "execution_count": 24,
   "id": "4c0d246d-6761-4756-8e49-7376c41a106f",
   "metadata": {
    "tags": []
   },
   "outputs": [
    {
     "data": {
      "text/plain": [
       "array([[3.75],\n",
       "       [2.75],\n",
       "       [3.  ],\n",
       "       ...,\n",
       "       [3.5 ],\n",
       "       [3.25],\n",
       "       [3.  ]])"
      ]
     },
     "execution_count": 24,
     "metadata": {},
     "output_type": "execute_result"
    }
   ],
   "source": [
    "# If we use loc, we need to reshape because the scaler is expecting a 2D matrix and loc returns 1D.\n",
    "y = df.loc[:,\"Rating\"].values.reshape(-1,1)\n",
    "y"
   ]
  },
  {
   "cell_type": "code",
   "execution_count": 25,
   "id": "95c8fd71-cd89-4cd5-8845-72fdca173897",
   "metadata": {
    "tags": []
   },
   "outputs": [
    {
     "data": {
      "text/plain": [
       "array([[ 1.18023096],\n",
       "       [-0.91212912],\n",
       "       [-0.3890391 ],\n",
       "       ...,\n",
       "       [ 0.65714094],\n",
       "       [ 0.13405092],\n",
       "       [-0.3890391 ]])"
      ]
     },
     "execution_count": 25,
     "metadata": {},
     "output_type": "execute_result"
    }
   ],
   "source": [
    "y_normalized = scaler.fit_transform(y)\n",
    "y_normalized"
   ]
  },
  {
   "cell_type": "code",
   "execution_count": 26,
   "id": "5e791cb4-a4b8-4132-a576-b3ad16ee3266",
   "metadata": {
    "tags": []
   },
   "outputs": [
    {
     "data": {
      "text/plain": [
       "Text(0.5, 0, 'Cocoa Percent')"
      ]
     },
     "execution_count": 26,
     "metadata": {},
     "output_type": "execute_result"
    },
    {
     "data": {
      "image/png": "[encoded data removed]",
      "text/plain": [
       "<Figure size 1600x500 with 1 Axes>"
      ]
     },
     "metadata": {},
     "output_type": "display_data"
    }
   ],
   "source": [
    "x = df[\"CocoaPercent\"]\n",
    "plt.figure(figsize=(16,5))\n",
    "plt.scatter(x,y_normalized, color = \"r\", alpha = 0.1)\n",
    "plt.ylabel(\"Ratings normalized\")\n",
    "plt.xlabel(\"Cocoa Percent\")"
   ]
  },
  {
   "cell_type": "code",
   "execution_count": null,
   "id": "c5f3efe8-d1dd-4bae-9569-6b338010c87d",
   "metadata": {
    "tags": []
   },
   "outputs": [],
   "source": []
  }
 ],
 "metadata": {
  "kernelspec": {
   "display_name": "Python 3 (ipykernel)",
   "language": "python",
   "name": "python3"
  },
  "language_info": {
   "codemirror_mode": {
    "name": "ipython",
    "version": 3
   },
   "file_extension": ".py",
   "mimetype": "text/x-python",
   "name": "python",
   "nbconvert_exporter": "python",
   "pygments_lexer": "ipython3",
   "version": "3.11.4"
  }
 },
 "nbformat": 4,
 "nbformat_minor": 5
}
